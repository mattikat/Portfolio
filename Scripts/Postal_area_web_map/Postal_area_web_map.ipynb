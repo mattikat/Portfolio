{
 "cells": [
  {
   "cell_type": "code",
   "execution_count": 1,
   "metadata": {},
   "outputs": [
    {
     "name": "stdout",
     "output_type": "stream",
     "text": [
      "Fetching data...\n",
      "Data fetched!\n"
     ]
    }
   ],
   "source": [
    "from pyproj import CRS\n",
    "import geopandas as gpd\n",
    "import pandas as pd\n",
    "import folium\n",
    "import requests\n",
    "import geojson\n",
    "\n",
    "print('Fetching data...')\n",
    "# URL to the WFS server\n",
    "url = 'https://paituli.csc.fi/geoserver/paituli/wfs?'\n",
    "\n",
    "# Specify parameters (read data in json format). \n",
    "params = dict(service='wfs', \n",
    "              version='2.0.0', \n",
    "              request='GetFeature', \n",
    "              typeName='paituli:tike_paavo_2021', \n",
    "              outputFormat='json')\n",
    "\n",
    "# Fetch data from WFS using requests\n",
    "r = requests.get(url, params=params)\n",
    "    \n",
    "# Create GeoDataFrame from geojson\n",
    "data = gpd.GeoDataFrame.from_features(geojson.loads(r.content))\n",
    "\n",
    "munici_fp = 'data/alueryhmittely_posnro_2021_fi.csv'\n",
    "munici_codes = pd.read_csv(munici_fp,encoding='utf-8',\n",
    "                   delimiter =';',\n",
    "                   header=2,\n",
    "                   usecols=['Postinumeroalueen nimi','Kunnan nimi','Seutukunta','Maakunnan nimi']\n",
    "                  )\n",
    "\n",
    "# Add description of crs from 3067, merge two datasets, and reproject to Web Mercator     \n",
    "data.crs = CRS.from_epsg(3067)\n",
    "data_merged = data.merge(munici_codes, left_on='nimi',right_on='Postinumeroalueen nimi')\n",
    "data_merged = data_merged.to_crs(3857)\n",
    "print('Data fetched!')"
   ]
  },
  {
   "cell_type": "code",
   "execution_count": 2,
   "metadata": {},
   "outputs": [],
   "source": [
    "# Use only needed columns\n",
    "geo_series = data_merged[['postinumer','nimi','Kunnan nimi','Maakunnan nimi','pinta_ala','he_vakiy','te_as_valj','geometry']]\n",
    "\n",
    "# Create map instance\n",
    "m = folium.Map(location = [64,27],\n",
    "               zoom_start=5,\n",
    "               tiles='CartoDBdark_matter',\n",
    "               control_scale=True,\n",
    "               max_bounds=True\n",
    "              )\n",
    "# Add features\n",
    "folium.features.GeoJson(geo_series,\n",
    "                        tooltip=folium.features.GeoJsonTooltip(fields=['postinumer','nimi','Kunnan nimi','Maakunnan nimi','pinta_ala','he_vakiy','te_as_valj'],\n",
    "                                                                aliases=['Postal code', 'Postal area name','Municipality',\n",
    "                                                                         'Province','Area(km²)','Population',\n",
    "                                                                         'Occupancy rate (floor area per resident)'],\n",
    "                                                                labels=True,\n",
    "                                                                sticky=True\n",
    "                                                                            )\n",
    "                       ).add_to(m)\n",
    "    \n",
    "folium.LayerControl().add_to(m)\n",
    "m.save('Postal_areas.html')"
   ]
  },
  {
   "cell_type": "code",
   "execution_count": null,
   "metadata": {},
   "outputs": [],
   "source": []
  }
 ],
 "metadata": {
  "kernelspec": {
   "display_name": "Python 3 (ipykernel)",
   "language": "python",
   "name": "python3"
  },
  "language_info": {
   "codemirror_mode": {
    "name": "ipython",
    "version": 3
   },
   "file_extension": ".py",
   "mimetype": "text/x-python",
   "name": "python",
   "nbconvert_exporter": "python",
   "pygments_lexer": "ipython3",
   "version": "3.8.12"
  }
 },
 "nbformat": 4,
 "nbformat_minor": 4
}
